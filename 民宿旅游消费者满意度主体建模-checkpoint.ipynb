{
 "cells": [
  {
   "cell_type": "code",
   "execution_count": 18,
   "metadata": {},
   "outputs": [],
   "source": [
    "import pandas as pd\n",
    "import numpy as np\n",
    "from collections import Counter"
   ]
  },
  {
   "cell_type": "code",
   "execution_count": 7,
   "metadata": {},
   "outputs": [],
   "source": [
    "df=pd.read_csv(r'F:\\data.csv',header=0)"
   ]
  },
  {
   "cell_type": "code",
   "execution_count": 8,
   "metadata": {},
   "outputs": [
    {
     "data": {
      "text/html": [
       "<div>\n",
       "<style scoped>\n",
       "    .dataframe tbody tr th:only-of-type {\n",
       "        vertical-align: middle;\n",
       "    }\n",
       "\n",
       "    .dataframe tbody tr th {\n",
       "        vertical-align: top;\n",
       "    }\n",
       "\n",
       "    .dataframe thead th {\n",
       "        text-align: right;\n",
       "    }\n",
       "</style>\n",
       "<table border=\"1\" class=\"dataframe\">\n",
       "  <thead>\n",
       "    <tr style=\"text-align: right;\">\n",
       "      <th></th>\n",
       "      <th>id</th>\n",
       "      <th>满意度</th>\n",
       "      <th>评价文本</th>\n",
       "    </tr>\n",
       "  </thead>\n",
       "  <tbody>\n",
       "    <tr>\n",
       "      <th>0</th>\n",
       "      <td>。***8</td>\n",
       "      <td>超棒</td>\n",
       "      <td>房间干净温馨噢，装饰上很用心，少女心爆棚，公寓也很安全，查看健康码和量体温。因为疫情一家人在...</td>\n",
       "    </tr>\n",
       "    <tr>\n",
       "      <th>1</th>\n",
       "      <td>_***0</td>\n",
       "      <td>超棒</td>\n",
       "      <td>不得不说成都真的是一个愉快的旅途，由于在成都呆一个星期，就想着住民宿会更方便一点。然后再网上...</td>\n",
       "    </tr>\n",
       "    <tr>\n",
       "      <th>2</th>\n",
       "      <td>M***2</td>\n",
       "      <td>超棒</td>\n",
       "      <td>挺喜欢这样的装修风格    退房手续办理很快。服务态度热情周到  配套设施齐全  晚上休息得...</td>\n",
       "    </tr>\n",
       "    <tr>\n",
       "      <th>3</th>\n",
       "      <td>A***8</td>\n",
       "      <td>超棒</td>\n",
       "      <td>位置优越容易找到，交通方便，装修风格独特，房间宽敞干净整洁，设备设施用品都很齐全，床单被套都...</td>\n",
       "    </tr>\n",
       "    <tr>\n",
       "      <th>4</th>\n",
       "      <td>D***9</td>\n",
       "      <td>一般</td>\n",
       "      <td>和价格相符 很便宜 110一晚！地理位子非常好 就在地铁口旁边 打车也很方便 市区可能会有点...</td>\n",
       "    </tr>\n",
       "    <tr>\n",
       "      <th>...</th>\n",
       "      <td>...</td>\n",
       "      <td>...</td>\n",
       "      <td>...</td>\n",
       "    </tr>\n",
       "    <tr>\n",
       "      <th>2219</th>\n",
       "      <td>毛毛小哥哥</td>\n",
       "      <td>一般</td>\n",
       "      <td>一般，没有说明和想象中的好。</td>\n",
       "    </tr>\n",
       "    <tr>\n",
       "      <th>2220</th>\n",
       "      <td>Veronicaves</td>\n",
       "      <td>很好</td>\n",
       "      <td>美女房东服务态度超好。</td>\n",
       "    </tr>\n",
       "    <tr>\n",
       "      <th>2221</th>\n",
       "      <td>Zcpbravo</td>\n",
       "      <td>很好</td>\n",
       "      <td>各个柜子打开会发现很脏</td>\n",
       "    </tr>\n",
       "    <tr>\n",
       "      <th>2222</th>\n",
       "      <td>-</td>\n",
       "      <td>很好</td>\n",
       "      <td>床品干净整洁</td>\n",
       "    </tr>\n",
       "    <tr>\n",
       "      <th>2223</th>\n",
       "      <td>M***5</td>\n",
       "      <td>一般</td>\n",
       "      <td>卫生间反味</td>\n",
       "    </tr>\n",
       "  </tbody>\n",
       "</table>\n",
       "<p>2224 rows × 3 columns</p>\n",
       "</div>"
      ],
      "text/plain": [
       "               id 满意度                                               评价文本\n",
       "0           。***8  超棒  房间干净温馨噢，装饰上很用心，少女心爆棚，公寓也很安全，查看健康码和量体温。因为疫情一家人在...\n",
       "1           _***0  超棒  不得不说成都真的是一个愉快的旅途，由于在成都呆一个星期，就想着住民宿会更方便一点。然后再网上...\n",
       "2           M***2  超棒  挺喜欢这样的装修风格    退房手续办理很快。服务态度热情周到  配套设施齐全  晚上休息得...\n",
       "3           A***8  超棒  位置优越容易找到，交通方便，装修风格独特，房间宽敞干净整洁，设备设施用品都很齐全，床单被套都...\n",
       "4           D***9  一般  和价格相符 很便宜 110一晚！地理位子非常好 就在地铁口旁边 打车也很方便 市区可能会有点...\n",
       "...           ...  ..                                                ...\n",
       "2219        毛毛小哥哥  一般                                     一般，没有说明和想象中的好。\n",
       "2220  Veronicaves  很好                                        美女房东服务态度超好。\n",
       "2221     Zcpbravo  很好                                        各个柜子打开会发现很脏\n",
       "2222            -  很好                                             床品干净整洁\n",
       "2223        M***5  一般                                              卫生间反味\n",
       "\n",
       "[2224 rows x 3 columns]"
      ]
     },
     "execution_count": 8,
     "metadata": {},
     "output_type": "execute_result"
    }
   ],
   "source": [
    "df"
   ]
  },
  {
   "cell_type": "code",
   "execution_count": 9,
   "metadata": {},
   "outputs": [],
   "source": [
    "df1=df['评价文本']"
   ]
  },
  {
   "cell_type": "code",
   "execution_count": 10,
   "metadata": {},
   "outputs": [
    {
     "data": {
      "text/plain": [
       "0       房间干净温馨噢，装饰上很用心，少女心爆棚，公寓也很安全，查看健康码和量体温。因为疫情一家人在...\n",
       "1       不得不说成都真的是一个愉快的旅途，由于在成都呆一个星期，就想着住民宿会更方便一点。然后再网上...\n",
       "2       挺喜欢这样的装修风格    退房手续办理很快。服务态度热情周到  配套设施齐全  晚上休息得...\n",
       "3       位置优越容易找到，交通方便，装修风格独特，房间宽敞干净整洁，设备设施用品都很齐全，床单被套都...\n",
       "4       和价格相符 很便宜 110一晚！地理位子非常好 就在地铁口旁边 打车也很方便 市区可能会有点...\n",
       "                              ...                        \n",
       "2219                                       一般，没有说明和想象中的好。\n",
       "2220                                          美女房东服务态度超好。\n",
       "2221                                          各个柜子打开会发现很脏\n",
       "2222                                               床品干净整洁\n",
       "2223                                                卫生间反味\n",
       "Name: 评价文本, Length: 2224, dtype: object"
      ]
     },
     "execution_count": 10,
     "metadata": {},
     "output_type": "execute_result"
    }
   ],
   "source": [
    "df1"
   ]
  },
  {
   "cell_type": "code",
   "execution_count": 11,
   "metadata": {},
   "outputs": [
    {
     "data": {
      "text/plain": [
       "False    2162\n",
       "True       62\n",
       "Name: 评价文本, dtype: int64"
      ]
     },
     "execution_count": 11,
     "metadata": {},
     "output_type": "execute_result"
    }
   ],
   "source": [
    "df1.duplicated().value_counts()"
   ]
  },
  {
   "cell_type": "code",
   "execution_count": 12,
   "metadata": {},
   "outputs": [
    {
     "data": {
      "text/plain": [
       "False    2162\n",
       "Name: 评价文本, dtype: int64"
      ]
     },
     "execution_count": 12,
     "metadata": {},
     "output_type": "execute_result"
    }
   ],
   "source": [
    "df2=df1.drop_duplicates()\n",
    "df2.duplicated().value_counts()"
   ]
  },
  {
   "cell_type": "code",
   "execution_count": 13,
   "metadata": {},
   "outputs": [],
   "source": [
    "df3=df2[df2.str.len()>4]"
   ]
  },
  {
   "cell_type": "code",
   "execution_count": 14,
   "metadata": {},
   "outputs": [
    {
     "data": {
      "text/plain": [
       "0       房间干净温馨噢，装饰上很用心，少女心爆棚，公寓也很安全，查看健康码和量体温。因为疫情一家人在...\n",
       "1       不得不说成都真的是一个愉快的旅途，由于在成都呆一个星期，就想着住民宿会更方便一点。然后再网上...\n",
       "2       挺喜欢这样的装修风格    退房手续办理很快。服务态度热情周到  配套设施齐全  晚上休息得...\n",
       "3       位置优越容易找到，交通方便，装修风格独特，房间宽敞干净整洁，设备设施用品都很齐全，床单被套都...\n",
       "4       和价格相符 很便宜 110一晚！地理位子非常好 就在地铁口旁边 打车也很方便 市区可能会有点...\n",
       "                              ...                        \n",
       "2219                                       一般，没有说明和想象中的好。\n",
       "2220                                          美女房东服务态度超好。\n",
       "2221                                          各个柜子打开会发现很脏\n",
       "2222                                               床品干净整洁\n",
       "2223                                                卫生间反味\n",
       "Name: 评价文本, Length: 2161, dtype: object"
      ]
     },
     "execution_count": 14,
     "metadata": {},
     "output_type": "execute_result"
    }
   ],
   "source": [
    "df3"
   ]
  },
  {
   "cell_type": "code",
   "execution_count": 15,
   "metadata": {},
   "outputs": [],
   "source": [
    "import jieba\n",
    "import os,codecs"
   ]
  },
  {
   "cell_type": "code",
   "execution_count": 16,
   "metadata": {},
   "outputs": [],
   "source": [
    "list=','.join(str(i)for i in df3).replace(' ','')"
   ]
  },
  {
   "cell_type": "code",
   "execution_count": 19,
   "metadata": {},
   "outputs": [
    {
     "name": "stderr",
     "output_type": "stream",
     "text": [
      "Building prefix dict from the default dictionary ...\n",
      "Dumping model to file cache C:\\Users\\18747\\AppData\\Local\\Temp\\jieba.cache\n",
      "Loading model cost 1.892 seconds.\n",
      "Prefix dict has been built successfully.\n"
     ]
    },
    {
     "name": "stdout",
     "output_type": "stream",
     "text": [
      "常用词频度统计结果\n",
      "房间:1679\n",
      "方便:1022\n",
      "干净:890\n",
      "不错:774\n",
      "房东:522\n",
      "交通:514\n",
      "齐全:426\n",
      "设施:413\n",
      "满意:411\n",
      "楼下:407\n"
     ]
    }
   ],
   "source": [
    "def load_stopword():\n",
    "\n",
    "    f_stop = open('F:\\stopWord.txt','r',encoding='UTF-8')\n",
    "    sw = [line.strip() for line in f_stop]\n",
    "    f_stop.close()\n",
    "    sw.append('\\n')\n",
    "    return sw\n",
    "stopwords = load_stopword()\n",
    "seg_list = jieba.cut(list)\n",
    "c = Counter()\n",
    "for x in seg_list:\n",
    "    if len(x)>1 and x != '\\r\\n' and x not in stopwords:\n",
    "        c[x] += 1\n",
    "print('常用词频度统计结果')\n",
    "for (k,v) in c.most_common(10):\n",
    "    print('{}:{}'.format(k,v))"
   ]
  },
  {
   "cell_type": "code",
   "execution_count": null,
   "metadata": {},
   "outputs": [],
   "source": []
  },
  {
   "cell_type": "code",
   "execution_count": null,
   "metadata": {},
   "outputs": [],
   "source": []
  }
 ],
 "metadata": {
  "kernelspec": {
   "display_name": "Python 3",
   "language": "python",
   "name": "python3"
  },
  "language_info": {
   "codemirror_mode": {
    "name": "ipython",
    "version": 3
   },
   "file_extension": ".py",
   "mimetype": "text/x-python",
   "name": "python",
   "nbconvert_exporter": "python",
   "pygments_lexer": "ipython3",
   "version": "3.7.6"
  }
 },
 "nbformat": 4,
 "nbformat_minor": 4
}
